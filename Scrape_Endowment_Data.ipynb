{
  "nbformat": 4,
  "nbformat_minor": 0,
  "metadata": {
    "colab": {
      "provenance": []
    },
    "kernelspec": {
      "name": "python3",
      "display_name": "Python 3"
    },
    "language_info": {
      "name": "python"
    }
  },
  "cells": [
    {
      "cell_type": "code",
      "execution_count": 3,
      "metadata": {
        "colab": {
          "base_uri": "https://localhost:8080/"
        },
        "id": "u_07IRA6EiUJ",
        "outputId": "56c2ffca-f45f-444d-cb21-c89eb42b54e9"
      },
      "outputs": [
        {
          "output_type": "stream",
          "name": "stdout",
          "text": [
            "Requirement already satisfied: wikipedia in /usr/local/lib/python3.10/dist-packages (1.4.0)\n",
            "Requirement already satisfied: beautifulsoup4 in /usr/local/lib/python3.10/dist-packages (from wikipedia) (4.11.2)\n",
            "Requirement already satisfied: requests<3.0.0,>=2.0.0 in /usr/local/lib/python3.10/dist-packages (from wikipedia) (2.31.0)\n",
            "Requirement already satisfied: charset-normalizer<4,>=2 in /usr/local/lib/python3.10/dist-packages (from requests<3.0.0,>=2.0.0->wikipedia) (3.3.2)\n",
            "Requirement already satisfied: idna<4,>=2.5 in /usr/local/lib/python3.10/dist-packages (from requests<3.0.0,>=2.0.0->wikipedia) (3.6)\n",
            "Requirement already satisfied: urllib3<3,>=1.21.1 in /usr/local/lib/python3.10/dist-packages (from requests<3.0.0,>=2.0.0->wikipedia) (2.0.7)\n",
            "Requirement already satisfied: certifi>=2017.4.17 in /usr/local/lib/python3.10/dist-packages (from requests<3.0.0,>=2.0.0->wikipedia) (2023.11.17)\n",
            "Requirement already satisfied: soupsieve>1.2 in /usr/local/lib/python3.10/dist-packages (from beautifulsoup4->wikipedia) (2.5)\n"
          ]
        }
      ],
      "source": [
        "!pip install wikipedia"
      ]
    },
    {
      "cell_type": "code",
      "source": [
        "import wikipedia\n",
        "\n",
        "def string_to_money(string):\n",
        "  start_index = string.index(\"$\")\n",
        "  i = start_index + 1\n",
        "  number = \"\"\n",
        "  while string[i] in \"0123456789,\":\n",
        "    if string[i] != ',':\n",
        "      number += string[i]\n",
        "    i += 1\n",
        "  number = int(number)\n",
        "\n",
        "  if \"million\" in string.lower():\n",
        "    number *= 1e6\n",
        "  elif \"billion\" in string.lower():\n",
        "    number *= 1e9\n",
        "\n",
        "  return number\n",
        "\n",
        "def university_to_endowment(university):\n",
        "  try:\n",
        "    wik = wikipedia.WikipediaPage(title = university)\n",
        "    content = wik.html()\n",
        "  except:\n",
        "    return None\n",
        "\n",
        "  try:\n",
        "    start_index = content.index(\"Endowment\")\n",
        "    string = content[start_index:start_index+100]\n",
        "    endowment = string_to_money(string)\n",
        "    return endowment\n",
        "  except:\n",
        "    return None\n",
        "\n",
        "print(university_to_endowment(\"Milligan University\"))\n",
        "print(university_to_endowment(\"Stanford University\"))"
      ],
      "metadata": {
        "colab": {
          "base_uri": "https://localhost:8080/"
        },
        "id": "p7ptnMmmEoLe",
        "outputId": "842a99e1-255b-40f0-97bf-cb30138ea754"
      },
      "execution_count": 2,
      "outputs": [
        {
          "output_type": "stream",
          "name": "stdout",
          "text": [
            "60600000\n",
            "36000000000.0\n"
          ]
        }
      ]
    },
    {
      "cell_type": "code",
      "source": [
        "import numpy as np\n",
        "import pandas as pd\n",
        "\n",
        "df = pd.read_csv(\"Better_df.csv\")\n",
        "\n",
        "endowments = []\n",
        "for college in df[\"Name\"]:\n",
        "  endow = university_to_endowment(college)\n",
        "  endowments.append(endow)\n",
        "  if len(endowments) % 100 == 0:\n",
        "    print(f\"{len(endowments)} completed!\")\n",
        "\n",
        "df[\"Endowment\"] = np.array(endowments)\n",
        "print(df[[\"Name\", \"Endowment\"]])"
      ],
      "metadata": {
        "colab": {
          "base_uri": "https://localhost:8080/"
        },
        "id": "b6JIsoV2-UxH",
        "outputId": "73973aaa-00c3-41d0-db51-067e0cd9d2ad"
      },
      "execution_count": 3,
      "outputs": [
        {
          "output_type": "stream",
          "name": "stderr",
          "text": [
            "/usr/local/lib/python3.10/dist-packages/wikipedia/wikipedia.py:389: GuessedAtParserWarning: No parser was explicitly specified, so I'm using the best available HTML parser for this system (\"lxml\"). This usually isn't a problem, but if you run this code on another system, or in a different virtual environment, it may use a different parser and behave differently.\n",
            "\n",
            "The code that caused this warning is on line 389 of the file /usr/local/lib/python3.10/dist-packages/wikipedia/wikipedia.py. To get rid of this warning, pass the additional argument 'features=\"lxml\"' to the BeautifulSoup constructor.\n",
            "\n",
            "  lis = BeautifulSoup(html).find_all('li')\n"
          ]
        },
        {
          "output_type": "stream",
          "name": "stdout",
          "text": [
            "100 completed!\n",
            "200 completed!\n",
            "300 completed!\n",
            "400 completed!\n",
            "500 completed!\n",
            "600 completed!\n",
            "700 completed!\n",
            "800 completed!\n",
            "900 completed!\n",
            "1000 completed!\n",
            "1100 completed!\n",
            "1200 completed!\n",
            "1300 completed!\n",
            "                                     Name     Endowment\n",
            "0                Alabama A & M University    48000000.0\n",
            "1     University of Alabama at Birmingham   711000000.0\n",
            "2     University of Alabama in Huntsville    79000000.0\n",
            "3                Alabama State University   101000000.0\n",
            "4               The University of Alabama  1000000000.0\n",
            "...                                   ...           ...\n",
            "1365                  Milligan University      60600000\n",
            "1366                    Husson University    29000000.0\n",
            "1367                 Westcliff University          None\n",
            "1368          Purdue University Northwest  2000000000.0\n",
            "1369    The Pennsylvania State University  4000000000.0\n",
            "\n",
            "[1370 rows x 2 columns]\n"
          ]
        }
      ]
    },
    {
      "cell_type": "code",
      "source": [
        "df.to_csv(\"Better_df_1.csv\", index=False)"
      ],
      "metadata": {
        "id": "ryF_M4NRIQ8i"
      },
      "execution_count": 4,
      "outputs": []
    }
  ]
}